{
 "cells": [
  {
   "cell_type": "markdown",
   "metadata": {},
   "source": [
    "# NumPy Practice\n",
    "\n",
    "This notebook offers a set of exercises for different tasks with NumPy.\n",
    "\n",
    "It should be noted there may be more than one different way to answer a question or complete an exercise.\n",
    "\n",
    "Exercises are based off (and directly taken from) the quick introduction to NumPy notebook.\n",
    "\n",
    "Different tasks will be detailed by comments or text.\n",
    "\n",
    "For further reference and resources, it's advised to check out the [NumPy documentation](https://numpy.org/devdocs/user/index.html).\n",
    "\n",
    "And if you get stuck, try searching for a question in the following format: \"how to do XYZ with numpy\", where XYZ is the function you want to leverage from NumPy."
   ]
  },
  {
   "cell_type": "code",
   "execution_count": 5,
   "metadata": {},
   "outputs": [],
   "source": [
    "# Import NumPy as its abbreviation 'np'\n",
    "import numpy as np\n"
   ]
  },
  {
   "cell_type": "code",
   "execution_count": 6,
   "metadata": {},
   "outputs": [
    {
     "data": {
      "text/plain": [
       "array([1, 2, 3, 4, 5, 6])"
      ]
     },
     "execution_count": 6,
     "metadata": {},
     "output_type": "execute_result"
    }
   ],
   "source": [
    "# Create a 1-dimensional NumPy array using np.array()\n",
    "arr_1 = np.array([1, 2, 3, 4, 5, 6])\n",
    "arr_1"
   ]
  },
  {
   "cell_type": "code",
   "execution_count": 7,
   "metadata": {},
   "outputs": [
    {
     "data": {
      "text/plain": [
       "array([[3, 4, 6],\n",
       "       [5, 6, 8]])"
      ]
     },
     "execution_count": 7,
     "metadata": {},
     "output_type": "execute_result"
    }
   ],
   "source": [
    "# Create a 2-dimensional NumPy array using np.array()\n",
    "arr_2 = np.array([[3,4,6],\n",
    "                  [5,6,8]])\n",
    "arr_2"
   ]
  },
  {
   "cell_type": "code",
   "execution_count": 8,
   "metadata": {},
   "outputs": [
    {
     "data": {
      "text/plain": [
       "array([[[ 2,  4,  6,  7],\n",
       "        [ 5,  7,  9, 10],\n",
       "        [ 4,  7,  9,  1]]])"
      ]
     },
     "execution_count": 8,
     "metadata": {},
     "output_type": "execute_result"
    }
   ],
   "source": [
    "# Create a 3-dimensional Numpy array using np.array()\n",
    "arr_3 = np.array([[[2,4,6,7],\n",
    "                   [5,7,9,10],\n",
    "                   [4,7,9,1]]])\n",
    "arr_3"
   ]
  },
  {
   "cell_type": "code",
   "execution_count": 9,
   "metadata": {},
   "outputs": [
    {
     "data": {
      "text/plain": [
       "(6,)"
      ]
     },
     "execution_count": 9,
     "metadata": {},
     "output_type": "execute_result"
    }
   ],
   "source": [
    "# Attributes of 1-dimensional array (shape,\n",
    "arr_1.shape"
   ]
  },
  {
   "cell_type": "code",
   "execution_count": 10,
   "metadata": {},
   "outputs": [
    {
     "data": {
      "text/plain": [
       "(2, 3)"
      ]
     },
     "execution_count": 10,
     "metadata": {},
     "output_type": "execute_result"
    }
   ],
   "source": [
    "arr_2.shape"
   ]
  },
  {
   "cell_type": "code",
   "execution_count": 11,
   "metadata": {},
   "outputs": [
    {
     "data": {
      "text/plain": [
       "(1, 3, 4)"
      ]
     },
     "execution_count": 11,
     "metadata": {},
     "output_type": "execute_result"
    }
   ],
   "source": [
    "arr_3.shape"
   ]
  },
  {
   "cell_type": "code",
   "execution_count": 12,
   "metadata": {},
   "outputs": [
    {
     "data": {
      "text/plain": [
       "(1, 2, 3)"
      ]
     },
     "execution_count": 12,
     "metadata": {},
     "output_type": "execute_result"
    }
   ],
   "source": [
    " # number of dimensions, data type, size and type)\n",
    "arr_1.ndim, arr_2.ndim, arr_3.ndim"
   ]
  },
  {
   "cell_type": "code",
   "execution_count": 13,
   "metadata": {},
   "outputs": [
    {
     "data": {
      "text/plain": [
       "(dtype('int32'), dtype('int32'), dtype('int32'))"
      ]
     },
     "execution_count": 13,
     "metadata": {},
     "output_type": "execute_result"
    }
   ],
   "source": [
    "# data type\n",
    "arr_1.dtype, arr_2.dtype, arr_3.dtype"
   ]
  },
  {
   "cell_type": "code",
   "execution_count": 14,
   "metadata": {},
   "outputs": [
    {
     "data": {
      "text/plain": [
       "(6, 6, 12)"
      ]
     },
     "execution_count": 14,
     "metadata": {},
     "output_type": "execute_result"
    }
   ],
   "source": [
    "# size\n",
    "arr_1.size, arr_2.size, arr_3.size"
   ]
  },
  {
   "cell_type": "code",
   "execution_count": 15,
   "metadata": {},
   "outputs": [
    {
     "data": {
      "text/plain": [
       "(numpy.ndarray, numpy.ndarray, numpy.ndarray)"
      ]
     },
     "execution_count": 15,
     "metadata": {},
     "output_type": "execute_result"
    }
   ],
   "source": [
    "# type\n",
    "type(arr_1), type(arr_2), type(arr_3)"
   ]
  },
  {
   "cell_type": "code",
   "execution_count": 16,
   "metadata": {},
   "outputs": [
    {
     "data": {
      "text/html": [
       "<div>\n",
       "<style scoped>\n",
       "    .dataframe tbody tr th:only-of-type {\n",
       "        vertical-align: middle;\n",
       "    }\n",
       "\n",
       "    .dataframe tbody tr th {\n",
       "        vertical-align: top;\n",
       "    }\n",
       "\n",
       "    .dataframe thead th {\n",
       "        text-align: right;\n",
       "    }\n",
       "</style>\n",
       "<table border=\"1\" class=\"dataframe\">\n",
       "  <thead>\n",
       "    <tr style=\"text-align: right;\">\n",
       "      <th></th>\n",
       "      <th>0</th>\n",
       "    </tr>\n",
       "  </thead>\n",
       "  <tbody>\n",
       "    <tr>\n",
       "      <th>0</th>\n",
       "      <td>1</td>\n",
       "    </tr>\n",
       "    <tr>\n",
       "      <th>1</th>\n",
       "      <td>2</td>\n",
       "    </tr>\n",
       "    <tr>\n",
       "      <th>2</th>\n",
       "      <td>3</td>\n",
       "    </tr>\n",
       "    <tr>\n",
       "      <th>3</th>\n",
       "      <td>4</td>\n",
       "    </tr>\n",
       "    <tr>\n",
       "      <th>4</th>\n",
       "      <td>5</td>\n",
       "    </tr>\n",
       "    <tr>\n",
       "      <th>5</th>\n",
       "      <td>6</td>\n",
       "    </tr>\n",
       "  </tbody>\n",
       "</table>\n",
       "</div>"
      ],
      "text/plain": [
       "   0\n",
       "0  1\n",
       "1  2\n",
       "2  3\n",
       "3  4\n",
       "4  5\n",
       "5  6"
      ]
     },
     "execution_count": 16,
     "metadata": {},
     "output_type": "execute_result"
    }
   ],
   "source": [
    "# Import pandas and create a DataFrame out of one\n",
    "import pandas as pd\n",
    "arr_1_df  = pd.DataFrame(arr_1)\n",
    "arr_1_df"
   ]
  },
  {
   "cell_type": "code",
   "execution_count": 17,
   "metadata": {},
   "outputs": [
    {
     "data": {
      "text/html": [
       "<div>\n",
       "<style scoped>\n",
       "    .dataframe tbody tr th:only-of-type {\n",
       "        vertical-align: middle;\n",
       "    }\n",
       "\n",
       "    .dataframe tbody tr th {\n",
       "        vertical-align: top;\n",
       "    }\n",
       "\n",
       "    .dataframe thead th {\n",
       "        text-align: right;\n",
       "    }\n",
       "</style>\n",
       "<table border=\"1\" class=\"dataframe\">\n",
       "  <thead>\n",
       "    <tr style=\"text-align: right;\">\n",
       "      <th></th>\n",
       "      <th>0</th>\n",
       "      <th>1</th>\n",
       "      <th>2</th>\n",
       "    </tr>\n",
       "  </thead>\n",
       "  <tbody>\n",
       "    <tr>\n",
       "      <th>0</th>\n",
       "      <td>3</td>\n",
       "      <td>4</td>\n",
       "      <td>6</td>\n",
       "    </tr>\n",
       "    <tr>\n",
       "      <th>1</th>\n",
       "      <td>5</td>\n",
       "      <td>6</td>\n",
       "      <td>8</td>\n",
       "    </tr>\n",
       "  </tbody>\n",
       "</table>\n",
       "</div>"
      ],
      "text/plain": [
       "   0  1  2\n",
       "0  3  4  6\n",
       "1  5  6  8"
      ]
     },
     "execution_count": 17,
     "metadata": {},
     "output_type": "execute_result"
    }
   ],
   "source": [
    "arr_2_df = pd.DataFrame(arr_2)\n",
    "arr_2_df"
   ]
  },
  {
   "cell_type": "code",
   "execution_count": 18,
   "metadata": {},
   "outputs": [
    {
     "data": {
      "text/plain": [
       "array([[1., 1.],\n",
       "       [1., 1.],\n",
       "       [1., 1.],\n",
       "       [1., 1.],\n",
       "       [1., 1.],\n",
       "       [1., 1.],\n",
       "       [1., 1.],\n",
       "       [1., 1.],\n",
       "       [1., 1.],\n",
       "       [1., 1.]])"
      ]
     },
     "execution_count": 18,
     "metadata": {},
     "output_type": "execute_result"
    }
   ],
   "source": [
    "# Create an array of shape (10, 2) with only ones\n",
    "Ones = np.ones((10,2))\n",
    "Ones"
   ]
  },
  {
   "cell_type": "code",
   "execution_count": 19,
   "metadata": {},
   "outputs": [
    {
     "data": {
      "text/plain": [
       "array([[[1., 1., 1.],\n",
       "        [1., 1., 1.]],\n",
       "\n",
       "       [[1., 1., 1.],\n",
       "        [1., 1., 1.]],\n",
       "\n",
       "       [[1., 1., 1.],\n",
       "        [1., 1., 1.]],\n",
       "\n",
       "       [[1., 1., 1.],\n",
       "        [1., 1., 1.]],\n",
       "\n",
       "       [[1., 1., 1.],\n",
       "        [1., 1., 1.]],\n",
       "\n",
       "       [[1., 1., 1.],\n",
       "        [1., 1., 1.]],\n",
       "\n",
       "       [[1., 1., 1.],\n",
       "        [1., 1., 1.]]])"
      ]
     },
     "execution_count": 19,
     "metadata": {},
     "output_type": "execute_result"
    }
   ],
   "source": [
    "# Create an array of shape (7, 2, 3) of only zeros\n",
    "Ones_2 = np.ones((7, 2, 3))\n",
    "Ones_2\n"
   ]
  },
  {
   "cell_type": "code",
   "execution_count": 20,
   "metadata": {},
   "outputs": [
    {
     "data": {
      "text/plain": [
       "array([[[0., 0., 0.],\n",
       "        [0., 0., 0.]],\n",
       "\n",
       "       [[0., 0., 0.],\n",
       "        [0., 0., 0.]],\n",
       "\n",
       "       [[0., 0., 0.],\n",
       "        [0., 0., 0.]],\n",
       "\n",
       "       [[0., 0., 0.],\n",
       "        [0., 0., 0.]],\n",
       "\n",
       "       [[0., 0., 0.],\n",
       "        [0., 0., 0.]],\n",
       "\n",
       "       [[0., 0., 0.],\n",
       "        [0., 0., 0.]],\n",
       "\n",
       "       [[0., 0., 0.],\n",
       "        [0., 0., 0.]]])"
      ]
     },
     "execution_count": 20,
     "metadata": {},
     "output_type": "execute_result"
    }
   ],
   "source": [
    "zeros =np.zeros((7,2,3))\n",
    "zeros"
   ]
  },
  {
   "cell_type": "code",
   "execution_count": 21,
   "metadata": {},
   "outputs": [
    {
     "data": {
      "text/plain": [
       "array([ 0,  3,  6,  9, 12, 15, 18, 21, 24, 27, 30, 33, 36, 39, 42, 45, 48,\n",
       "       51, 54, 57, 60, 63, 66, 69, 72, 75, 78, 81, 84, 87, 90, 93, 96, 99])"
      ]
     },
     "execution_count": 21,
     "metadata": {},
     "output_type": "execute_result"
    }
   ],
   "source": [
    "# Create an array within a range of 0 and 100 with step 3\n",
    "arr_4 = np.arange(0, 100, 3)\n",
    "arr_4\n"
   ]
  },
  {
   "cell_type": "code",
   "execution_count": 22,
   "metadata": {},
   "outputs": [
    {
     "data": {
      "text/plain": [
       "array([[9, 0],\n",
       "       [7, 5],\n",
       "       [0, 3],\n",
       "       [8, 6],\n",
       "       [1, 8],\n",
       "       [2, 5],\n",
       "       [0, 2]])"
      ]
     },
     "execution_count": 22,
     "metadata": {},
     "output_type": "execute_result"
    }
   ],
   "source": [
    "# Create a random array with numbers between 0 and 10 of size (7, 2)\n",
    "import random as random\n",
    "arr_5 = np.random.randint(10, size=(7, 2))\n",
    "arr_5\n"
   ]
  },
  {
   "cell_type": "code",
   "execution_count": 23,
   "metadata": {},
   "outputs": [
    {
     "data": {
      "text/plain": [
       "array([[0.68181875, 0.56007211, 0.99566311, 0.73617792, 0.9670298 ],\n",
       "       [0.76798518, 0.35130643, 0.94375276, 0.42381028, 0.85058959],\n",
       "       [0.31956031, 0.86622565, 0.40039283, 0.07268565, 0.56584688]])"
      ]
     },
     "execution_count": 23,
     "metadata": {},
     "output_type": "execute_result"
    }
   ],
   "source": [
    "# Create a random array of floats between 0 & 1 of shape (3, 5)\n",
    "arr_6 = np.random.random((3, 5))\n",
    "arr_6"
   ]
  },
  {
   "cell_type": "code",
   "execution_count": 24,
   "metadata": {},
   "outputs": [
    {
     "data": {
      "text/plain": [
       "array([[0.37454012, 0.95071431, 0.73199394, 0.59865848, 0.15601864],\n",
       "       [0.15599452, 0.05808361, 0.86617615, 0.60111501, 0.70807258],\n",
       "       [0.02058449, 0.96990985, 0.83244264, 0.21233911, 0.18182497]])"
      ]
     },
     "execution_count": 24,
     "metadata": {},
     "output_type": "execute_result"
    }
   ],
   "source": [
    "# Set the random seed to 42\n",
    "np.random.seed(42)\n",
    "arr_7 = np.random.random((3,5))\n",
    "arr_7"
   ]
  },
  {
   "cell_type": "code",
   "execution_count": 25,
   "metadata": {},
   "outputs": [
    {
     "data": {
      "text/plain": [
       "array([[6, 3, 7, 4, 6, 9],\n",
       "       [2, 6, 7, 4, 3, 7],\n",
       "       [7, 2, 5, 4, 1, 7],\n",
       "       [5, 1, 4, 0, 9, 5]])"
      ]
     },
     "execution_count": 25,
     "metadata": {},
     "output_type": "execute_result"
    }
   ],
   "source": [
    "# Create a random array of numbers between 0 & 10 of size (4, 6)\n",
    "np.random.seed(42)\n",
    "arr_8 = np.random.randint(10, size=(4, 6))\n",
    "arr_8"
   ]
  },
  {
   "cell_type": "markdown",
   "metadata": {},
   "source": [
    "Run the cell above again, what happens?\n",
    "the values stopped changing\n",
    "\n",
    "Are the numbers in the array different or the same? Why do think this is?\n",
    "the seed attribute locked it"
   ]
  },
  {
   "cell_type": "code",
   "execution_count": 26,
   "metadata": {},
   "outputs": [
    {
     "data": {
      "text/plain": [
       "(array([[9, 1, 3, 7, 4, 9, 3],\n",
       "        [5, 3, 7, 5, 9, 7, 2],\n",
       "        [4, 9, 2, 9, 5, 2, 4]]),\n",
       " array([1, 2, 3, 4, 5, 7, 9]))"
      ]
     },
     "execution_count": 26,
     "metadata": {},
     "output_type": "execute_result"
    }
   ],
   "source": [
    "# Create an array of random numbers between 1 & 10 of size (3, 7)\n",
    "# and save it to a variable\n",
    "# Find the unique numbers in the array you just created\n",
    "arr_9 = np.random.randint(1, 10, size=(3, 7))\n",
    "arr_9, np.unique(arr_9)"
   ]
  },
  {
   "cell_type": "code",
   "execution_count": 27,
   "metadata": {},
   "outputs": [
    {
     "data": {
      "text/plain": [
       "(array([9, 1, 3, 7, 4, 9, 3]), array([5, 3, 7, 5, 9, 7, 2]))"
      ]
     },
     "execution_count": 27,
     "metadata": {},
     "output_type": "execute_result"
    }
   ],
   "source": [
    "# Find the 0'th index of the latest array you created\n",
    "arr_9[0], arr_9[1]\n"
   ]
  },
  {
   "cell_type": "code",
   "execution_count": 32,
   "metadata": {},
   "outputs": [
    {
     "data": {
      "text/plain": [
       "array([[9, 1, 3, 7, 4, 9, 3],\n",
       "       [5, 3, 7, 5, 9, 7, 2],\n",
       "       [4, 9, 2, 9, 5, 2, 4]])"
      ]
     },
     "execution_count": 32,
     "metadata": {},
     "output_type": "execute_result"
    }
   ],
   "source": [
    "arr_9"
   ]
  },
  {
   "cell_type": "code",
   "execution_count": 36,
   "metadata": {},
   "outputs": [
    {
     "data": {
      "text/plain": [
       "array([[9, 1, 3, 7, 4, 9, 3],\n",
       "       [5, 3, 7, 5, 9, 7, 2]])"
      ]
     },
     "execution_count": 36,
     "metadata": {},
     "output_type": "execute_result"
    }
   ],
   "source": [
    "# Get the first 2 rows of latest array you created\n",
    "arr_9[:2]\n"
   ]
  },
  {
   "cell_type": "code",
   "execution_count": 37,
   "metadata": {},
   "outputs": [
    {
     "data": {
      "text/plain": [
       "array([[9, 1],\n",
       "       [5, 3]])"
      ]
     },
     "execution_count": 37,
     "metadata": {},
     "output_type": "execute_result"
    }
   ],
   "source": [
    "# Get the first 2 values of the first 2 rows of the latest array\n",
    "arr_9[:2, :2]\n"
   ]
  },
  {
   "cell_type": "code",
   "execution_count": 40,
   "metadata": {},
   "outputs": [],
   "source": [
    "# Create a random array of numbers between 0 & 10 and an array of ones\n",
    "# both of size (3, 5), save them both to variables\n",
    "arr_10 = np.random.randint(0, 10, size=(3,5))\n",
    "arr_11 = np.ones((3,5))"
   ]
  },
  {
   "cell_type": "code",
   "execution_count": 42,
   "metadata": {},
   "outputs": [
    {
     "data": {
      "text/plain": [
       "(array([[0, 8, 6, 8, 7],\n",
       "        [0, 7, 7, 2, 0],\n",
       "        [7, 2, 2, 0, 4]]),\n",
       " array([[1., 1., 1., 1., 1.],\n",
       "        [1., 1., 1., 1., 1.],\n",
       "        [1., 1., 1., 1., 1.]]))"
      ]
     },
     "execution_count": 42,
     "metadata": {},
     "output_type": "execute_result"
    }
   ],
   "source": [
    "arr_10, arr_11"
   ]
  },
  {
   "cell_type": "code",
   "execution_count": 43,
   "metadata": {},
   "outputs": [
    {
     "data": {
      "text/plain": [
       "array([[1., 9., 7., 9., 8.],\n",
       "       [1., 8., 8., 3., 1.],\n",
       "       [8., 3., 3., 1., 5.]])"
      ]
     },
     "execution_count": 43,
     "metadata": {},
     "output_type": "execute_result"
    }
   ],
   "source": [
    "# Add the two arrays together\n",
    "arr_10 + arr_11\n"
   ]
  },
  {
   "cell_type": "code",
   "execution_count": 44,
   "metadata": {},
   "outputs": [
    {
     "data": {
      "text/plain": [
       "array([[1., 1., 1.],\n",
       "       [1., 1., 1.],\n",
       "       [1., 1., 1.],\n",
       "       [1., 1., 1.],\n",
       "       [1., 1., 1.]])"
      ]
     },
     "execution_count": 44,
     "metadata": {},
     "output_type": "execute_result"
    }
   ],
   "source": [
    "# Create another array of ones of shape (5, 3)\n",
    "arr_12 = np.ones((5,3))\n",
    "arr_12"
   ]
  },
  {
   "cell_type": "code",
   "execution_count": 45,
   "metadata": {},
   "outputs": [
    {
     "ename": "ValueError",
     "evalue": "operands could not be broadcast together with shapes (3,5) (5,3) ",
     "output_type": "error",
     "traceback": [
      "\u001b[1;31m---------------------------------------------------------------------------\u001b[0m",
      "\u001b[1;31mValueError\u001b[0m                                Traceback (most recent call last)",
      "Cell \u001b[1;32mIn[45], line 2\u001b[0m\n\u001b[0;32m      1\u001b[0m \u001b[38;5;66;03m# Try add the array of ones and the other most recent array together\u001b[39;00m\n\u001b[1;32m----> 2\u001b[0m arr_10 \u001b[38;5;241m+\u001b[39m arr_12\n",
      "\u001b[1;31mValueError\u001b[0m: operands could not be broadcast together with shapes (3,5) (5,3) "
     ]
    }
   ],
   "source": [
    "# Try add the array of ones and the other most recent array together\n",
    "arr_10 + arr_12\n"
   ]
  },
  {
   "cell_type": "markdown",
   "metadata": {},
   "source": [
    "When you try the last cell, it produces an error. Why do think this is?\n",
    "because they are not of equal shapes\n",
    "\n",
    "How would you fix it?\n",
    "I will have to tranpose one of them"
   ]
  },
  {
   "cell_type": "code",
   "execution_count": 51,
   "metadata": {},
   "outputs": [
    {
     "data": {
      "text/plain": [
       "array([[0.15416284, 0.7400497 , 0.26331502, 0.53373939, 0.01457496],\n",
       "       [0.91874701, 0.90071485, 0.03342143, 0.95694934, 0.13720932],\n",
       "       [0.28382835, 0.60608318, 0.94422514, 0.85273554, 0.00225923]])"
      ]
     },
     "execution_count": 51,
     "metadata": {},
     "output_type": "execute_result"
    }
   ],
   "source": [
    "# Create another array of ones of shape (3, 5)\n",
    "np.random.seed(12)\n",
    "arr_13 = np.random.random((3, 5))\n",
    "arr_13\n"
   ]
  },
  {
   "cell_type": "code",
   "execution_count": 52,
   "metadata": {},
   "outputs": [
    {
     "data": {
      "text/plain": [
       "array([[-0.15416284,  7.2599503 ,  5.73668498,  7.46626061,  6.98542504],\n",
       "       [-0.91874701,  6.09928515,  6.96657857,  1.04305066, -0.13720932],\n",
       "       [ 6.71617165,  1.39391682,  1.05577486, -0.85273554,  3.99774077]])"
      ]
     },
     "execution_count": 52,
     "metadata": {},
     "output_type": "execute_result"
    }
   ],
   "source": [
    "# Subtract the new array of ones from the other most recent array\n",
    "arr_10 - arr_13"
   ]
  },
  {
   "cell_type": "code",
   "execution_count": 53,
   "metadata": {},
   "outputs": [
    {
     "data": {
      "text/plain": [
       "array([[0.15416284, 0.7400497 , 0.26331502, 0.53373939, 0.01457496],\n",
       "       [0.91874701, 0.90071485, 0.03342143, 0.95694934, 0.13720932],\n",
       "       [0.28382835, 0.60608318, 0.94422514, 0.85273554, 0.00225923]])"
      ]
     },
     "execution_count": 53,
     "metadata": {},
     "output_type": "execute_result"
    }
   ],
   "source": [
    "# Multiply the ones array with the latest array\n",
    "arr_11 * arr_13"
   ]
  },
  {
   "cell_type": "code",
   "execution_count": 54,
   "metadata": {},
   "outputs": [
    {
     "data": {
      "text/plain": [
       "array([[2.37661820e-02, 5.47673553e-01, 6.93347972e-02, 2.84877740e-01,\n",
       "        2.12429531e-04],\n",
       "       [8.44096065e-01, 8.11287248e-01, 1.11699182e-03, 9.15752032e-01,\n",
       "        1.88263979e-02],\n",
       "       [8.05585339e-02, 3.67336826e-01, 8.91561108e-01, 7.27157903e-01,\n",
       "        5.10413609e-06]])"
      ]
     },
     "execution_count": 54,
     "metadata": {},
     "output_type": "execute_result"
    }
   ],
   "source": [
    "# Take the latest array to the power of 2 using '**'\n",
    "arr_13 ** 2\n"
   ]
  },
  {
   "cell_type": "code",
   "execution_count": 55,
   "metadata": {},
   "outputs": [
    {
     "data": {
      "text/plain": [
       "array([[2.37661820e-02, 5.47673553e-01, 6.93347972e-02, 2.84877740e-01,\n",
       "        2.12429531e-04],\n",
       "       [8.44096065e-01, 8.11287248e-01, 1.11699182e-03, 9.15752032e-01,\n",
       "        1.88263979e-02],\n",
       "       [8.05585339e-02, 3.67336826e-01, 8.91561108e-01, 7.27157903e-01,\n",
       "        5.10413609e-06]])"
      ]
     },
     "execution_count": 55,
     "metadata": {},
     "output_type": "execute_result"
    }
   ],
   "source": [
    "# Do the same thing with np.square()\n",
    "np.square(arr_13)"
   ]
  },
  {
   "cell_type": "code",
   "execution_count": 56,
   "metadata": {},
   "outputs": [
    {
     "data": {
      "text/plain": [
       "0.48946768702786525"
      ]
     },
     "execution_count": 56,
     "metadata": {},
     "output_type": "execute_result"
    }
   ],
   "source": [
    "# Find the mean of the latest array using np.mean()\n",
    "np.mean(arr_13)\n"
   ]
  },
  {
   "cell_type": "code",
   "execution_count": 57,
   "metadata": {},
   "outputs": [
    {
     "data": {
      "text/plain": [
       "0.9569493362751168"
      ]
     },
     "execution_count": 57,
     "metadata": {},
     "output_type": "execute_result"
    }
   ],
   "source": [
    "# Find the maximum of the latest array using np.max()\n",
    "np.max(arr_13)\n"
   ]
  },
  {
   "cell_type": "code",
   "execution_count": 58,
   "metadata": {},
   "outputs": [
    {
     "data": {
      "text/plain": [
       "0.002259233518513537"
      ]
     },
     "execution_count": 58,
     "metadata": {},
     "output_type": "execute_result"
    }
   ],
   "source": [
    "# Find the minimum of the latest array using np.min()\n",
    "np.min(arr_13)\n"
   ]
  },
  {
   "cell_type": "code",
   "execution_count": 59,
   "metadata": {},
   "outputs": [
    {
     "data": {
      "text/plain": [
       "0.3642237098901014"
      ]
     },
     "execution_count": 59,
     "metadata": {},
     "output_type": "execute_result"
    }
   ],
   "source": [
    "# Find the standard deviation of the latest array\n",
    "np.std(arr_13)"
   ]
  },
  {
   "cell_type": "code",
   "execution_count": 60,
   "metadata": {},
   "outputs": [
    {
     "data": {
      "text/plain": [
       "0.13265891084610873"
      ]
     },
     "execution_count": 60,
     "metadata": {},
     "output_type": "execute_result"
    }
   ],
   "source": [
    "# Find the variance of the latest array\n",
    "np.var(arr_13)\n"
   ]
  },
  {
   "cell_type": "code",
   "execution_count": 61,
   "metadata": {},
   "outputs": [
    {
     "data": {
      "text/plain": [
       "array([[[0.15416284],\n",
       "        [0.7400497 ],\n",
       "        [0.26331502],\n",
       "        [0.53373939],\n",
       "        [0.01457496]],\n",
       "\n",
       "       [[0.91874701],\n",
       "        [0.90071485],\n",
       "        [0.03342143],\n",
       "        [0.95694934],\n",
       "        [0.13720932]],\n",
       "\n",
       "       [[0.28382835],\n",
       "        [0.60608318],\n",
       "        [0.94422514],\n",
       "        [0.85273554],\n",
       "        [0.00225923]]])"
      ]
     },
     "execution_count": 61,
     "metadata": {},
     "output_type": "execute_result"
    }
   ],
   "source": [
    "# Reshape the latest array to (3, 5, 1)\n",
    "arr_13.reshape(3, 5, 1)\n"
   ]
  },
  {
   "cell_type": "code",
   "execution_count": 62,
   "metadata": {},
   "outputs": [
    {
     "data": {
      "text/plain": [
       "array([[0.15416284, 0.91874701, 0.28382835],\n",
       "       [0.7400497 , 0.90071485, 0.60608318],\n",
       "       [0.26331502, 0.03342143, 0.94422514],\n",
       "       [0.53373939, 0.95694934, 0.85273554],\n",
       "       [0.01457496, 0.13720932, 0.00225923]])"
      ]
     },
     "execution_count": 62,
     "metadata": {},
     "output_type": "execute_result"
    }
   ],
   "source": [
    "# Transpose the latest array\n",
    "arr_13.T\n"
   ]
  },
  {
   "cell_type": "markdown",
   "metadata": {},
   "source": [
    "What does the transpose do?\n",
    "It changed the shape from (3, 5) to (5, 3)"
   ]
  },
  {
   "cell_type": "code",
   "execution_count": 66,
   "metadata": {},
   "outputs": [
    {
     "data": {
      "text/plain": [
       "(array([[5, 3, 4],\n",
       "        [5, 5, 0],\n",
       "        [6, 6, 3]]),\n",
       " array([[2, 4],\n",
       "        [3, 9],\n",
       "        [6, 7]]))"
      ]
     },
     "execution_count": 66,
     "metadata": {},
     "output_type": "execute_result"
    }
   ],
   "source": [
    "# Create two arrays of random integers between 0 to 10\n",
    "# one of size (3, 3) the other of size (3, 2)\n",
    "arr_14 = np.random.randint(0, 10, size=(3, 3))\n",
    "arr_15 = np.random.randint(0, 10, size=(3, 2))\n",
    "arr_14, arr_15\n"
   ]
  },
  {
   "cell_type": "code",
   "execution_count": 67,
   "metadata": {},
   "outputs": [
    {
     "data": {
      "text/plain": [
       "array([[43, 75],\n",
       "       [25, 65],\n",
       "       [48, 99]])"
      ]
     },
     "execution_count": 67,
     "metadata": {},
     "output_type": "execute_result"
    }
   ],
   "source": [
    "# Perform a dot product on the two newest arrays you created\n",
    "np.dot(arr_14, arr_15)\n"
   ]
  },
  {
   "cell_type": "code",
   "execution_count": 70,
   "metadata": {},
   "outputs": [
    {
     "data": {
      "text/plain": [
       "(array([[4, 3, 8],\n",
       "        [8, 6, 9],\n",
       "        [8, 4, 9],\n",
       "        [4, 1, 4]]),\n",
       " array([[1, 4, 3],\n",
       "        [2, 8, 0],\n",
       "        [1, 4, 6],\n",
       "        [5, 4, 2]]))"
      ]
     },
     "execution_count": 70,
     "metadata": {},
     "output_type": "execute_result"
    }
   ],
   "source": [
    "# Create two arrays of random integers between 0 to 10\n",
    "# both of size (4, 3)\n",
    "arr_16 = np.random.randint(0, 10, size=(4,3))\n",
    "arr_17 = np.random.randint(0, 10, size=(4,3))\n",
    "arr_16, arr_17\n"
   ]
  },
  {
   "cell_type": "code",
   "execution_count": 71,
   "metadata": {},
   "outputs": [
    {
     "ename": "ValueError",
     "evalue": "shapes (4,3) and (4,3) not aligned: 3 (dim 1) != 4 (dim 0)",
     "output_type": "error",
     "traceback": [
      "\u001b[1;31m---------------------------------------------------------------------------\u001b[0m",
      "\u001b[1;31mValueError\u001b[0m                                Traceback (most recent call last)",
      "Cell \u001b[1;32mIn[71], line 2\u001b[0m\n\u001b[0;32m      1\u001b[0m \u001b[38;5;66;03m# Perform a dot product on the two newest arrays you created\u001b[39;00m\n\u001b[1;32m----> 2\u001b[0m np\u001b[38;5;241m.\u001b[39mdot(arr_16, arr_17)\n",
      "\u001b[1;31mValueError\u001b[0m: shapes (4,3) and (4,3) not aligned: 3 (dim 1) != 4 (dim 0)"
     ]
    }
   ],
   "source": [
    "# Perform a dot product on the two newest arrays you created\n",
    "np.dot(arr_16, arr_17)\n"
   ]
  },
  {
   "cell_type": "markdown",
   "metadata": {},
   "source": [
    "It doesn't work. How would you fix it?\n",
    "I would have to transpose one of them."
   ]
  },
  {
   "cell_type": "code",
   "execution_count": 73,
   "metadata": {},
   "outputs": [
    {
     "data": {
      "text/plain": [
       "array([[ 48, 128,  68],\n",
       "       [ 24,  80,  35],\n",
       "       [ 55, 156,  86]])"
      ]
     },
     "execution_count": 73,
     "metadata": {},
     "output_type": "execute_result"
    }
   ],
   "source": [
    "# Take the latest two arrays, perform a transpose on one of them and then perform \n",
    "# a dot product on them both\n",
    "arr_16.T\n",
    "np.dot(arr_16.T, arr_17)"
   ]
  },
  {
   "cell_type": "code",
   "execution_count": 74,
   "metadata": {},
   "outputs": [
    {
     "data": {
      "text/plain": [
       "array([[ True, False,  True],\n",
       "       [ True, False,  True],\n",
       "       [ True, False,  True],\n",
       "       [False, False,  True]])"
      ]
     },
     "execution_count": 74,
     "metadata": {},
     "output_type": "execute_result"
    }
   ],
   "source": [
    "# Create two arrays of random integers between 0 & 10 of the same shape\n",
    "# and save them to variables\n",
    "arr_16 > arr_17\n"
   ]
  },
  {
   "cell_type": "code",
   "execution_count": 75,
   "metadata": {},
   "outputs": [
    {
     "data": {
      "text/plain": [
       "array([[False, False,  True],\n",
       "       [ True, False,  True],\n",
       "       [ True, False,  True],\n",
       "       [False, False, False]])"
      ]
     },
     "execution_count": 75,
     "metadata": {},
     "output_type": "execute_result"
    }
   ],
   "source": [
    "# Find which elements of the first array are greater than 7\n",
    "arr_16 > 7\n"
   ]
  },
  {
   "cell_type": "code",
   "execution_count": 76,
   "metadata": {},
   "outputs": [
    {
     "data": {
      "text/plain": [
       "array([[False, False, False],\n",
       "       [False, False, False],\n",
       "       [False,  True, False],\n",
       "       [False, False, False]])"
      ]
     },
     "execution_count": 76,
     "metadata": {},
     "output_type": "execute_result"
    }
   ],
   "source": [
    "# Which parts of each array are equal? (try using '==')\n",
    "arr_16 == arr_17"
   ]
  },
  {
   "cell_type": "code",
   "execution_count": 79,
   "metadata": {},
   "outputs": [
    {
     "data": {
      "text/plain": [
       "(array([[1, 3, 4],\n",
       "        [0, 2, 8],\n",
       "        [1, 4, 6],\n",
       "        [2, 4, 5]]),\n",
       " array([[1, 4, 3],\n",
       "        [2, 8, 0],\n",
       "        [1, 4, 6],\n",
       "        [5, 4, 2]]))"
      ]
     },
     "execution_count": 79,
     "metadata": {},
     "output_type": "execute_result"
    }
   ],
   "source": [
    "# Sort one of the arrays you just created in ascending order\n",
    "np.sort(arr_17), arr_17\n"
   ]
  },
  {
   "cell_type": "code",
   "execution_count": 81,
   "metadata": {},
   "outputs": [
    {
     "data": {
      "text/plain": [
       "array([[0, 2, 1],\n",
       "       [2, 0, 1],\n",
       "       [0, 1, 2],\n",
       "       [2, 1, 0]], dtype=int64)"
      ]
     },
     "execution_count": 81,
     "metadata": {},
     "output_type": "execute_result"
    }
   ],
   "source": [
    "# Sort the indexes of one of the arrays you just created\n",
    "np.argsort(arr_17)\n"
   ]
  },
  {
   "cell_type": "code",
   "execution_count": 82,
   "metadata": {},
   "outputs": [
    {
     "data": {
      "text/plain": [
       "(5, 4)"
      ]
     },
     "execution_count": 82,
     "metadata": {},
     "output_type": "execute_result"
    }
   ],
   "source": [
    "# Find the index with the maximum value in one of the arrays you've created\n",
    "np.argmax(arr_16), np.argmax(arr_17)\n"
   ]
  },
  {
   "cell_type": "code",
   "execution_count": 83,
   "metadata": {},
   "outputs": [
    {
     "data": {
      "text/plain": [
       "10"
      ]
     },
     "execution_count": 83,
     "metadata": {},
     "output_type": "execute_result"
    }
   ],
   "source": [
    "# Find the index with the minimum value in one of the arrays you've created\n",
    "np.argmin(arr_16)"
   ]
  },
  {
   "cell_type": "code",
   "execution_count": 84,
   "metadata": {},
   "outputs": [
    {
     "data": {
      "text/plain": [
       "array([2, 2, 2, 0], dtype=int64)"
      ]
     },
     "execution_count": 84,
     "metadata": {},
     "output_type": "execute_result"
    }
   ],
   "source": [
    "# Find the indexes with the maximum values down the 1st axis (axis=1)\n",
    "# of one of the arrays you created\n",
    "np.argmax(arr_16, axis=1)"
   ]
  },
  {
   "cell_type": "code",
   "execution_count": 85,
   "metadata": {},
   "outputs": [
    {
     "data": {
      "text/plain": [
       "array([0, 0, 1], dtype=int64)"
      ]
     },
     "execution_count": 85,
     "metadata": {},
     "output_type": "execute_result"
    }
   ],
   "source": [
    "# Find the indexes with the minimum values across the 0th axis (axis=0)\n",
    "# of one of the arrays you created\n",
    "np.argmin(arr_17, axis=0)\n"
   ]
  },
  {
   "cell_type": "code",
   "execution_count": 93,
   "metadata": {},
   "outputs": [
    {
     "data": {
      "text/plain": [
       "array([[[ 1.37503811e+00, -5.68490265e-01,  5.79789641e-01,\n",
       "          1.32747523e+00,  2.71421772e-01,  1.01902088e+00,\n",
       "          1.16997592e+00, -1.31630706e-01,  4.81753935e-01,\n",
       "         -4.97742333e-01],\n",
       "        [ 1.43959413e+00,  2.61567910e-01, -2.27635057e+00,\n",
       "         -4.63041960e-01,  1.07111079e+00, -1.03057129e+00,\n",
       "         -3.98819772e-01,  1.21704611e-01,  1.12941974e+00,\n",
       "         -1.61917499e+00],\n",
       "        [ 8.27834028e-01, -4.49019287e-01,  1.86799427e+00,\n",
       "          7.18303280e-01,  8.15586153e-01,  6.58826379e-01,\n",
       "          5.45765710e-01, -2.41621067e+00, -1.08808852e+00,\n",
       "          7.89301312e-01],\n",
       "        [ 7.15852271e-01,  1.34512942e+00, -1.27446641e+00,\n",
       "         -4.56859932e-01, -5.56199910e-02, -7.00294045e-02,\n",
       "          1.05620975e-01, -4.95417313e-01,  4.24753393e-01,\n",
       "          2.36823260e-01],\n",
       "        [ 1.00309600e-01,  4.91737071e-01, -2.44300968e+00,\n",
       "          2.88556781e-01,  1.54577588e+00,  7.94025973e-01,\n",
       "          6.21360333e-01, -1.06070907e-01, -4.92371645e-01,\n",
       "         -4.04281903e-01],\n",
       "        [ 7.13405323e-02,  2.37798674e-01, -1.78877654e+00,\n",
       "          1.08829822e+00, -1.30093293e+00, -6.02178762e-01,\n",
       "          2.94397720e-01, -1.30529153e+00, -1.74376783e+00,\n",
       "          5.37389923e-01],\n",
       "        [-8.07909396e-01, -1.16219301e+00,  1.53839167e-01,\n",
       "         -2.16608590e+00,  4.38529191e-01,  1.79997407e+00,\n",
       "          3.38923264e-01,  6.41379362e-01, -1.04696620e+00,\n",
       "         -1.80743504e+00],\n",
       "        [-3.63134591e-03,  1.42147608e+00,  4.24977026e-01,\n",
       "         -5.79087280e-01, -7.07332427e-01,  3.27406829e-01,\n",
       "          5.40734438e-01,  4.88140052e-01, -6.18787345e-02,\n",
       "          1.54269383e+00],\n",
       "        [ 1.12288638e-01, -9.09971115e-01, -1.88182201e+00,\n",
       "         -1.12141311e+00,  2.66973086e-01,  3.84235303e-01,\n",
       "          1.10800153e+00, -5.75446175e-01,  4.96908133e-01,\n",
       "         -1.00054054e+00],\n",
       "        [-2.48723497e-02, -1.72986169e+00, -1.12124716e+00,\n",
       "         -1.04303721e+00, -1.12090164e+00, -9.63900005e-02,\n",
       "         -2.24080080e-01,  6.20565347e-01, -1.63408207e+00,\n",
       "          1.93090834e-01],\n",
       "        [-8.08014557e-01, -4.98826859e-01, -4.56388130e-01,\n",
       "         -1.40577341e+00, -2.90657376e-01,  4.98565521e-01,\n",
       "          1.60721734e+00,  1.97603716e+00, -6.93755275e-02,\n",
       "          1.70342937e-01],\n",
       "        [ 2.68400743e-01,  1.36430869e+00, -1.71149830e-01,\n",
       "         -3.18897109e-01, -3.88338430e-01,  3.42831300e-01,\n",
       "         -9.79761733e-01, -2.14928659e-01,  8.08435770e-02,\n",
       "          1.63625898e+00],\n",
       "        [-2.64933393e-01,  2.05021671e-01, -7.63267907e-02,\n",
       "         -5.83817105e-01,  2.53556780e-01,  4.92845211e-01,\n",
       "         -1.17725552e+00,  1.29690227e+00, -9.96713099e-01,\n",
       "          4.00926991e-01],\n",
       "        [-6.66931872e-02, -3.16637220e-03, -1.99579177e+00,\n",
       "          1.71447193e-01, -1.04670758e+00, -1.66463467e+00,\n",
       "          1.20395559e+00,  2.36549976e-01, -7.47736931e-02,\n",
       "         -3.93299953e-01],\n",
       "        [ 9.57109863e-01,  3.96591590e-01, -1.25839978e+00,\n",
       "          6.62616718e-01,  1.74874590e+00, -3.91303047e-01,\n",
       "         -1.55568792e-02, -7.94069176e-01, -8.48940440e-02,\n",
       "         -8.31249559e-01],\n",
       "        [-2.05918444e+00, -1.91227966e-01, -1.31868307e-01,\n",
       "         -1.35569624e+00, -4.53737302e-02, -1.31176551e+00,\n",
       "         -7.45648913e-01, -7.19365769e-01, -1.19972296e+00,\n",
       "         -2.56775517e-01],\n",
       "        [-4.71301470e-01, -7.88120763e-01, -6.92269163e-01,\n",
       "          8.89254727e-01,  3.49154475e-01,  9.08858345e-01,\n",
       "          5.34510116e-01,  1.93520101e+00, -1.91067405e+00,\n",
       "         -9.45878003e-02],\n",
       "        [ 5.49328249e-01, -6.87536923e-01, -5.19642938e-01,\n",
       "          9.46653588e-01, -8.64067519e-01, -3.24059123e-01,\n",
       "          5.19318906e-01, -4.56522763e-01, -8.13004837e-02,\n",
       "          1.06246217e-01],\n",
       "        [-1.59310498e+00, -4.86935689e-01,  1.08679982e+00,\n",
       "          8.78179822e-01, -1.89054600e+00,  1.34105963e+00,\n",
       "          8.01612607e-01, -5.78242849e-01, -2.99701854e-01,\n",
       "         -3.77514075e-01],\n",
       "        [-7.63128264e-01, -1.32369193e-01, -1.06257722e+00,\n",
       "          9.60221276e-01, -6.99933926e-01,  1.21201847e+00,\n",
       "          6.21020471e-01, -1.88607137e+00, -1.20729046e-01,\n",
       "         -2.02471917e-01],\n",
       "        [-1.42008189e+00,  5.42047818e-01,  1.09133268e-01,\n",
       "          3.50088107e+00, -7.93376454e-01,  1.10323559e-01,\n",
       "          1.46614082e+00, -6.57749844e-01, -1.12947133e-02,\n",
       "          2.30085892e+00],\n",
       "        [ 2.08718057e+00, -8.78173079e-01,  3.35812697e-01,\n",
       "         -5.28205497e-01,  3.54592771e-01, -3.17076911e-02,\n",
       "         -3.80508769e-01,  1.96240058e+00,  2.14218687e-01,\n",
       "         -2.05264409e-01],\n",
       "        [-1.45122377e+00,  8.34424299e-01, -1.44938320e+00,\n",
       "          3.58322967e-01,  1.10137292e-01, -2.11640740e-01,\n",
       "          2.47824161e-01, -8.70561237e-01,  1.00624110e+00,\n",
       "         -6.58571597e-01],\n",
       "        [-5.12451399e-01, -2.35483870e-01, -5.16625249e-02,\n",
       "          4.21790776e-01,  1.15262309e+00,  1.14538435e+00,\n",
       "         -1.83246696e+00, -6.67094574e-01,  6.99748683e-01,\n",
       "          3.48890857e-01],\n",
       "        [-6.48340435e-02,  7.64674666e-01,  4.25847763e-01,\n",
       "         -5.02037884e-01, -3.34326754e-01, -1.54858399e+00,\n",
       "         -5.17735596e-01,  1.03523149e+00,  8.37670096e-01,\n",
       "         -1.54631545e+00],\n",
       "        [-4.84576637e-01, -1.91089790e+00,  9.78572954e-01,\n",
       "          2.30776392e+00, -4.50787950e-01, -3.50119707e-01,\n",
       "         -4.64049593e-01, -2.88452370e-01,  1.03800506e+00,\n",
       "          2.07884249e+00],\n",
       "        [-1.65883827e+00, -1.22694748e-01,  6.09979141e-02,\n",
       "         -3.48811608e-01, -1.31551916e+00,  1.13516327e+00,\n",
       "         -5.25845472e-01, -1.19458090e+00,  1.84222108e+00,\n",
       "          1.14487038e+00],\n",
       "        [ 5.96946852e-01, -3.03866408e-01,  7.45264156e-01,\n",
       "          8.60317509e-02,  1.20571355e+00, -1.86691621e+00,\n",
       "         -8.91967815e-01, -8.62010239e-01,  1.57343678e+00,\n",
       "         -9.84116135e-01],\n",
       "        [ 2.15326346e-02, -4.77349774e-01, -2.03960718e+00,\n",
       "         -5.96456882e-01,  7.66125258e-01, -3.43419119e-01,\n",
       "          3.20781518e-02,  1.02820154e+00, -1.22386303e+00,\n",
       "         -3.57221894e-01],\n",
       "        [-2.13648797e+00,  2.40822602e-01,  3.25593727e-01,\n",
       "          1.54969947e+00, -6.23318219e-01,  3.83886101e-01,\n",
       "         -1.48718108e+00, -6.02697979e-01,  7.78949233e-01,\n",
       "         -1.37222926e+00],\n",
       "        [-1.30981664e+00, -1.15849115e+00, -5.59527840e-01,\n",
       "          5.43105768e-01, -3.11799498e-01,  7.06797772e-01,\n",
       "         -2.32608795e+00,  3.46814355e-01,  5.44462279e-01,\n",
       "         -6.22459121e-01],\n",
       "        [ 6.20539105e-02, -8.22064583e-01,  9.83516741e-01,\n",
       "          1.12653051e+00, -3.89112397e-02,  1.40190603e+00,\n",
       "         -2.13155532e-01,  4.20058975e-01,  1.08307357e+00,\n",
       "         -3.63616248e-01],\n",
       "        [-5.42822147e-01, -8.09720486e-01, -1.02738553e+00,\n",
       "         -6.05153102e-01,  6.01660426e-02, -1.14629596e+00,\n",
       "          3.84239288e-01,  5.79091639e-01,  1.62987886e-01,\n",
       "          4.32750513e-01],\n",
       "        [-1.75613269e+00,  1.28654780e+00,  8.06414938e-01,\n",
       "          1.47498079e-01,  1.20120546e-01, -4.07345380e-01,\n",
       "         -1.27372448e-02, -5.21497836e-01, -8.82466853e-01,\n",
       "         -3.97791854e-01],\n",
       "        [-3.30970718e-01,  2.03638955e-02, -8.10068983e-01,\n",
       "         -1.34138793e+00, -1.29406060e+00, -3.62580992e-01,\n",
       "          1.70409543e+00,  5.77867645e-01, -4.26804174e-01,\n",
       "         -1.20454231e+00],\n",
       "        [-1.46581047e-01,  9.05716865e-02,  2.43253504e+00,\n",
       "          1.60331901e+00,  6.42810005e-01,  5.47243642e-01,\n",
       "          9.25479535e-01, -1.89529638e-01,  3.44128074e-02,\n",
       "         -1.12140690e+00],\n",
       "        [ 1.00536857e+00, -2.35770228e+00, -6.08425704e-01,\n",
       "         -6.58945729e-01, -6.16260752e-01, -2.19314734e-01,\n",
       "         -2.26239432e-01, -1.97564970e+00,  9.19979178e-01,\n",
       "          1.98927038e+00],\n",
       "        [-1.34341118e+00,  7.69146148e-01,  1.89998068e+00,\n",
       "         -4.21988241e-01,  1.23874768e-01,  8.05965767e-01,\n",
       "         -1.97539608e+00, -5.64532629e-01,  1.06406423e-01,\n",
       "          2.91931843e-01],\n",
       "        [ 9.39678798e-01,  1.41078975e+00,  5.14848366e-02,\n",
       "          6.36982489e-01, -1.67898383e+00,  2.62314164e-01,\n",
       "          3.66546700e-02, -1.07162362e+00, -1.08434531e+00,\n",
       "          1.98673980e-01],\n",
       "        [ 6.44606912e-01, -3.59641000e-01,  2.72476238e-01,\n",
       "         -2.76276919e-01,  3.90233838e-01, -3.49359049e-01,\n",
       "         -7.11050949e-01, -1.89464992e+00, -6.54402566e-01,\n",
       "         -6.68528201e-01],\n",
       "        [-2.15757024e-01, -2.99678378e-02,  1.62897850e+00,\n",
       "         -1.13928313e+00,  1.30848736e+00,  1.77367797e+00,\n",
       "         -1.31219774e+00,  3.76832849e-01, -4.19141529e-01,\n",
       "          1.12546755e+00],\n",
       "        [ 1.54142306e+00,  1.42282947e+00,  4.61018818e-01,\n",
       "         -3.50374861e-01, -2.05123705e+00, -3.93386548e-02,\n",
       "         -1.83825653e+00,  8.13630189e-01, -9.61805294e-01,\n",
       "          4.30192865e-01],\n",
       "        [ 1.31112282e+00, -1.13251252e+00,  4.41781953e-01,\n",
       "          5.12611744e-01,  1.23106921e-01, -3.77610455e-01,\n",
       "          5.72271670e-01, -7.55279772e-03, -6.96189186e-01,\n",
       "          1.97070025e-01],\n",
       "        [ 1.49540485e-01, -4.59766420e-01, -8.99788396e-01,\n",
       "         -2.30679498e+00, -3.45075721e-01, -5.33332030e-01,\n",
       "         -1.61214026e-01, -2.12459251e-01,  1.34564904e+00,\n",
       "          1.09075301e-01],\n",
       "        [ 4.85210679e-01, -1.34889260e+00, -5.35633376e-01,\n",
       "         -3.33125481e-01, -5.50479652e-01, -8.19268839e-01,\n",
       "         -4.49845693e-01, -2.70739230e-01,  1.59955533e+00,\n",
       "         -1.27944042e+00],\n",
       "        [-1.45724277e+00, -4.68584016e-01, -3.52461871e-01,\n",
       "          2.11705615e-01, -3.27311590e-02,  7.05253326e-01,\n",
       "          1.81438218e+00,  6.66547445e-01,  9.60734174e-01,\n",
       "         -5.16722479e-01],\n",
       "        [ 1.27381906e+00, -4.56759957e-01,  6.43073250e-01,\n",
       "         -3.58062153e-01, -5.95525764e-01,  6.31119514e-01,\n",
       "         -5.76731475e-01,  1.61131954e+00, -5.46876455e-02,\n",
       "         -7.04388981e-01],\n",
       "        [ 5.59621634e-01,  6.26391054e-01,  1.03317843e-01,\n",
       "         -1.79356469e+00, -1.81990917e+00,  4.69801346e-01,\n",
       "          4.34581640e-01,  6.08631106e-01, -2.03250489e-02,\n",
       "         -1.53983692e+00],\n",
       "        [-8.71422676e-01,  1.19900517e+00, -2.89461780e-01,\n",
       "         -6.74322980e-01,  2.10575387e-01, -1.42678446e+00,\n",
       "          5.76380436e-01, -8.08786845e-01, -1.28207795e+00,\n",
       "         -2.35327056e+00],\n",
       "        [-5.99614771e-01,  6.63188325e-01,  1.74701965e-01,\n",
       "          9.64566404e-01, -9.33713847e-01,  9.28095584e-02,\n",
       "         -1.42754478e+00,  1.68060150e+00, -3.34497141e-01,\n",
       "         -5.52665055e-01],\n",
       "        [ 1.17964466e-01,  7.01639344e-01, -4.52908804e-01,\n",
       "          1.32306039e+00, -1.15352087e-01,  9.36446601e-01,\n",
       "         -4.01625229e-01, -2.95444825e-01, -4.48385099e-01,\n",
       "          3.58294076e-01],\n",
       "        [ 1.89994144e+00, -1.37921499e-01,  1.29829213e+00,\n",
       "         -1.40775969e+00, -4.72328808e-01,  3.93373341e-01,\n",
       "         -3.96689802e-01, -5.11925618e-01, -3.92936508e-01,\n",
       "          3.85239185e-01],\n",
       "        [-4.91712974e-01,  8.68660196e-01,  9.79233250e-02,\n",
       "          8.62341879e-01,  2.36333864e+00,  1.84628544e-01,\n",
       "         -2.06202959e-01, -1.57998621e+00,  5.30124550e-01,\n",
       "         -4.55580766e-01],\n",
       "        [ 9.06952143e-01, -6.16453742e-01, -1.84398179e-01,\n",
       "          2.22966288e+00,  7.40785064e-01, -1.60631474e+00,\n",
       "         -2.29872599e-01, -1.55861748e+00, -1.24919688e+00,\n",
       "          1.75375228e+00],\n",
       "        [ 1.04831432e+00,  7.97275096e-02, -1.39136373e+00,\n",
       "         -9.04587557e-01,  4.96664993e-01,  2.80096341e-01,\n",
       "         -8.90669094e-01, -3.82170854e-01,  6.00099198e-01,\n",
       "         -1.24056711e+00],\n",
       "        [-1.78870355e-01, -2.66026492e-01,  5.41177278e-01,\n",
       "          6.70964407e-01,  7.19968588e-02,  2.90638639e-01,\n",
       "          1.21560962e-01,  3.85254696e-01,  1.73719352e+00,\n",
       "          4.58703712e-01],\n",
       "        [-6.12731438e-01, -2.04408247e+00,  2.97683868e-01,\n",
       "         -3.16524932e-01,  6.14963436e-01, -4.57201499e-01,\n",
       "         -8.10155649e-01, -1.28050671e-01, -9.41328325e-01,\n",
       "          1.72154789e+00],\n",
       "        [-2.60826138e+00, -5.55496468e-01,  5.58553549e-02,\n",
       "          1.41204073e+00, -8.67092939e-01, -1.20085890e+00,\n",
       "         -1.00401913e+00, -5.88059447e-01, -1.12061712e+00,\n",
       "         -4.34809224e-01],\n",
       "        [ 2.41948066e-01,  1.61307554e+00, -4.80781123e-01,\n",
       "         -9.53756063e-01,  6.26921876e-01, -1.17628925e+00,\n",
       "         -1.76366759e+00,  1.94771898e+00,  1.77516830e+00,\n",
       "         -6.81261865e-01],\n",
       "        [ 5.61306865e-01, -9.83164706e-01, -2.27883055e-02,\n",
       "         -1.11879993e+00, -3.60755275e-01, -1.04822190e+00,\n",
       "          1.92508890e+00, -1.49910292e+00,  5.45590832e-01,\n",
       "         -3.10342662e-02],\n",
       "        [ 1.28074964e-01,  5.72509263e-01, -1.60056409e+00,\n",
       "          1.00537485e+00, -1.63145024e+00,  9.46792671e-01,\n",
       "          8.35911014e-01, -3.14338977e-01,  1.09470072e+00,\n",
       "         -1.66788286e+00],\n",
       "        [ 1.95775342e+00, -6.68634543e-01,  1.49594201e+00,\n",
       "         -5.47907769e-01, -1.12538149e-01,  9.12431759e-01,\n",
       "          4.68093046e-01, -6.08867646e-01,  1.22495318e+00,\n",
       "         -1.21158896e+00],\n",
       "        [-1.21496347e-01, -1.54448097e+00,  9.29054478e-01,\n",
       "         -6.22286833e-01, -1.27414770e-02, -1.31456370e+00,\n",
       "         -1.73177260e+00, -7.66924387e-01,  4.30520314e-02,\n",
       "          6.48123755e-01],\n",
       "        [ 4.79197705e-01, -5.25220550e-01, -8.20231144e-01,\n",
       "          9.38628450e-01, -8.68112101e-01, -7.61756562e-01,\n",
       "          1.12827680e+00, -3.22539166e-01, -3.78639958e-01,\n",
       "         -5.85591421e-01],\n",
       "        [ 5.79040381e-01, -1.83646154e+00,  4.64792431e-02,\n",
       "         -6.16947826e-01, -1.04139133e+00,  3.06821665e-01,\n",
       "          5.73503588e-01,  1.49469441e+00, -6.25041861e-01,\n",
       "          1.48487377e-01],\n",
       "        [-1.10859470e+00, -3.72201352e-01, -1.28962394e-01,\n",
       "         -1.16757957e+00,  6.29700418e-01, -4.50792494e-01,\n",
       "         -3.25108791e-01, -1.42443679e-01, -8.23683683e-01,\n",
       "          1.67733174e+00],\n",
       "        [ 1.99240501e+00, -2.01096147e-01, -5.10470485e-01,\n",
       "         -4.93756229e-01, -3.21715044e-01,  3.88263452e-01,\n",
       "          2.05605559e+00,  1.09957499e+00, -9.89060955e-01,\n",
       "          1.36356571e+00],\n",
       "        [-4.86737134e-01,  2.17570961e-01,  1.06556386e+00,\n",
       "          1.90567183e+00,  3.84002752e-01,  2.88524679e-02,\n",
       "         -1.89357979e+00, -9.35753903e-01, -1.17220215e+00,\n",
       "          1.31567722e-01],\n",
       "        [-2.35705639e+00,  1.56069153e-01,  1.40254471e+00,\n",
       "         -1.01346068e+00,  4.51583625e-01,  9.55867294e-01,\n",
       "          1.10031522e+00,  3.66983754e-01,  1.09804510e-01,\n",
       "         -1.22867296e+00],\n",
       "        [ 2.07894983e+00,  1.07061275e-02,  9.83179678e-01,\n",
       "         -1.15579814e+00, -1.11965455e+00,  2.14069860e+00,\n",
       "         -7.33045059e-01,  3.69412839e-01,  1.00735979e+00,\n",
       "         -7.77012797e-02],\n",
       "        [ 1.75027689e+00,  1.36926556e+00, -9.95542060e-01,\n",
       "          2.73186474e+00, -4.11715773e-02, -4.16872584e-01,\n",
       "         -2.63604505e-01,  2.37602976e-02,  1.25310836e+00,\n",
       "         -6.50397045e-01],\n",
       "        [-1.24024619e+00, -1.27026727e+00, -4.99498819e-01,\n",
       "          9.89230210e-01,  1.33049853e+00,  6.02157166e-01,\n",
       "          8.85775213e-01, -2.07354973e+00, -4.30124008e-01,\n",
       "          2.54754888e+00],\n",
       "        [-1.02173120e-01,  9.13968825e-01,  9.02457059e-02,\n",
       "          1.24347928e+00, -6.51979360e-01,  8.80515521e-01,\n",
       "         -8.66441445e-02,  1.73195732e-02,  6.77229806e-01,\n",
       "         -1.98422460e+00],\n",
       "        [-6.26729465e-01, -7.13642010e-01, -3.90050132e-01,\n",
       "          6.53227797e-01, -1.53893280e-01, -1.19015865e+00,\n",
       "         -1.24049398e+00, -4.52740575e-01, -7.10599739e-02,\n",
       "          4.32399301e-01],\n",
       "        [-1.40441591e+00,  6.88475191e-01, -2.38931918e+00,\n",
       "         -1.77118414e+00,  3.36119671e-01,  1.05819751e-01,\n",
       "          2.03593586e+00, -1.58428301e+00, -2.68369224e+00,\n",
       "         -2.96942480e-01],\n",
       "        [ 5.11007949e-02,  6.86698658e-01,  1.10610493e+00,\n",
       "         -8.11417022e-01, -6.68873941e-01, -4.66424620e-01,\n",
       "         -1.15739542e+00, -3.58533860e-01,  6.93824744e-02,\n",
       "         -9.08824381e-01],\n",
       "        [-7.02353782e-01, -3.83367835e-01, -1.18069423e+00,\n",
       "         -8.74129464e-01, -8.84143946e-01,  2.02782415e-01,\n",
       "          3.03488365e-01, -2.91172876e+00, -1.51228429e-01,\n",
       "          3.02465964e-01],\n",
       "        [ 4.58888038e-01,  2.03880020e+00, -1.31191148e+00,\n",
       "         -6.76857649e-01,  1.02565662e+00, -1.65339335e-01,\n",
       "         -7.66619373e-01,  2.28289953e+00, -1.60615225e-01,\n",
       "         -4.37901320e-01],\n",
       "        [-7.96080579e-01,  3.10297090e-01,  1.19752614e+00,\n",
       "         -1.17368854e+00, -9.21102114e-02,  1.02514037e+00,\n",
       "         -4.62783703e-01,  2.25971544e+00, -7.47468860e-02,\n",
       "         -1.49786601e-01],\n",
       "        [-4.10254076e-01, -1.52905828e-01, -4.68038806e-01,\n",
       "          9.56763860e-01, -2.35840670e-01, -1.92671191e-01,\n",
       "          9.04993292e-01, -5.22707589e-01,  6.56026052e-01,\n",
       "          1.53500099e+00],\n",
       "        [-1.02978888e+00,  9.88859144e-01,  3.85577198e-01,\n",
       "         -1.15394847e+00,  1.12980036e+00, -1.15910971e+00,\n",
       "          1.29956669e+00,  1.43943785e+00,  6.98069393e-01,\n",
       "         -1.39206828e-01],\n",
       "        [ 1.55932035e-01, -1.09394033e+00,  1.52061094e-01,\n",
       "          1.08526516e-01,  4.63325535e-01, -8.52767394e-01,\n",
       "         -2.15236572e-01, -3.88289026e-01, -3.84171186e-01,\n",
       "         -7.53338457e-01],\n",
       "        [ 1.06210344e+00,  1.91252787e+00,  1.18075729e-01,\n",
       "         -1.83971859e+00, -9.46547742e-01, -9.35360482e-01,\n",
       "          8.17465694e-01,  7.94336326e-01, -6.74362545e-01,\n",
       "         -3.46388471e-01],\n",
       "        [ 3.31667254e-01, -5.26208674e-01, -1.10975399e+00,\n",
       "         -9.90244171e-01,  8.29362060e-01,  6.84754449e-01,\n",
       "         -2.88236502e-01,  4.33050122e-01, -4.86612763e-01,\n",
       "         -2.40969113e-02],\n",
       "        [ 7.68595528e-01,  1.16495825e+00, -3.90273692e-01,\n",
       "          1.24521207e+00,  8.36192315e-01, -1.83752747e+00,\n",
       "         -7.42863196e-01,  1.68691005e+00, -9.90972370e-01,\n",
       "         -4.89478573e-01],\n",
       "        [ 4.03031118e-01, -1.59194032e+00,  1.20640270e+00,\n",
       "         -1.28502306e+00, -1.26602902e+00, -1.41739533e+00,\n",
       "          1.24964629e-01,  4.40053788e-01,  8.15150592e-01,\n",
       "          4.06333402e-01],\n",
       "        [ 2.08363100e+00,  5.50061138e-02, -9.62619638e-01,\n",
       "          1.12251910e+00,  8.62138763e-01,  1.11343787e+00,\n",
       "          1.83057940e+00, -1.10431627e+00,  2.52137591e-01,\n",
       "         -7.21554327e-01],\n",
       "        [-3.46685228e-01, -9.15696600e-01,  3.70743994e-01,\n",
       "         -8.27362102e-02,  9.78572840e-01,  5.51674575e-01,\n",
       "          3.37955178e-01,  3.46880311e-01, -7.82797163e-01,\n",
       "         -1.33820992e+00],\n",
       "        [-6.70905772e-01, -3.23250037e-01, -1.20977594e+00,\n",
       "          7.31105956e-01,  1.63405451e+00, -3.43998781e-01,\n",
       "          4.72022917e-01, -7.17191653e-01, -4.96098639e-01,\n",
       "          6.96996083e-01],\n",
       "        [-1.30972761e+00,  5.59163410e-01,  6.71047209e-01,\n",
       "         -7.03114240e-01, -1.28413627e+00, -2.96659661e-01,\n",
       "         -7.70079632e-01,  1.61755529e+00, -1.47023934e+00,\n",
       "         -6.21078888e-02],\n",
       "        [ 3.10334154e-01,  2.17906577e-01,  2.07880317e-01,\n",
       "          1.45173297e+00, -1.01174527e+00, -7.75062922e-01,\n",
       "         -1.74537584e-01, -1.17235412e+00,  4.24418099e-01,\n",
       "         -4.82682141e-01],\n",
       "        [ 8.09157254e-01,  1.43042624e+00, -5.36664014e-02,\n",
       "          4.49602559e-01, -2.30515347e+00,  4.24978848e-01,\n",
       "         -1.26758650e+00, -1.41930206e+00,  3.81621755e-01,\n",
       "         -8.96930252e-01],\n",
       "        [ 1.10126651e-01, -5.39730842e-01,  1.16181094e+00,\n",
       "          4.64563156e-01, -7.57980129e-01, -5.62603617e-01,\n",
       "          7.45029313e-02, -1.85507246e-01,  6.99562026e-02,\n",
       "          1.82105216e-02],\n",
       "        [ 1.24006573e-01,  2.48640522e-01, -1.08725253e+00,\n",
       "         -1.21942898e+00, -6.87977216e-01,  2.03845020e+00,\n",
       "          8.03420758e-01, -2.79797470e-01,  8.43041412e-01,\n",
       "          7.51702818e-01],\n",
       "        [ 1.51586360e-01,  6.30372877e-01,  2.60242121e-01,\n",
       "         -1.13670953e+00,  4.86442955e-01,  3.59748496e-01,\n",
       "          2.71667256e-01, -7.65695547e-01, -1.19668192e+00,\n",
       "         -6.53352989e-01],\n",
       "        [-3.09420130e-01, -1.01228962e+00, -1.41959654e+00,\n",
       "         -1.24400064e+00,  8.94070299e-01,  2.36388700e-01,\n",
       "         -3.38479855e-01, -9.95156487e-01, -4.74096961e-01,\n",
       "         -1.14996497e-01],\n",
       "        [-1.36539315e+00, -2.77544283e-01, -1.73048498e+00,\n",
       "          3.26712569e-01,  6.41036319e-01,  1.09966272e+00,\n",
       "          7.82063642e-01, -7.60811172e-01, -3.38477214e-01,\n",
       "          1.69402220e+00],\n",
       "        [ 5.27347393e-01, -2.46523543e+00, -5.13064124e-01,\n",
       "         -1.76872438e-01, -9.03345862e-01,  1.21288904e+00,\n",
       "         -7.65286073e-01, -4.06248037e-01, -1.07097858e+00,\n",
       "          7.07331089e-01],\n",
       "        [ 4.04445797e-01, -2.19444075e-01,  3.14294093e-01,\n",
       "          2.61418738e-01,  3.51158816e-01, -2.08514129e+00,\n",
       "         -6.21972139e-01,  1.36872974e+00,  6.71326083e-01,\n",
       "         -5.77979037e-01],\n",
       "        [-5.25390078e-01,  1.60857657e+00, -2.37382160e-01,\n",
       "         -2.63088548e-01, -2.98141120e-01, -6.51517788e-02,\n",
       "         -6.35780683e-01,  1.83097681e-01, -3.39013611e-01,\n",
       "          8.54548450e-01]]])"
      ]
     },
     "execution_count": 93,
     "metadata": {},
     "output_type": "execute_result"
    }
   ],
   "source": [
    "# Create an array of normally distributed random numbers\n",
    "arr_18 = np.random.randn(1, 100, 10)\n",
    "arr_18"
   ]
  },
  {
   "cell_type": "code",
   "execution_count": 91,
   "metadata": {},
   "outputs": [
    {
     "data": {
      "text/plain": [
       "array([  1.,  12.,  23.,  34.,  45.,  56.,  67.,  78.,  89., 100.])"
      ]
     },
     "execution_count": 91,
     "metadata": {},
     "output_type": "execute_result"
    }
   ],
   "source": [
    "# Create an array with 10 evenly spaced numbers between 1 and 100\n",
    "arr_19 = np.linspace(1, 100, 10)\n",
    "arr_19\n"
   ]
  }
 ],
 "metadata": {
  "kernelspec": {
   "display_name": "Python 3 (ipykernel)",
   "language": "python",
   "name": "python3"
  },
  "language_info": {
   "codemirror_mode": {
    "name": "ipython",
    "version": 3
   },
   "file_extension": ".py",
   "mimetype": "text/x-python",
   "name": "python",
   "nbconvert_exporter": "python",
   "pygments_lexer": "ipython3",
   "version": "3.12.3"
  }
 },
 "nbformat": 4,
 "nbformat_minor": 4
}
